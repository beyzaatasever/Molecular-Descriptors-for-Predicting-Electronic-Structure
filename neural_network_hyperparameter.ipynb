{
  "cells": [
    {
      "cell_type": "markdown",
      "metadata": {
        "id": "view-in-github",
        "colab_type": "text"
      },
      "source": [
        "<a href=\"https://colab.research.google.com/github/beyzaatasever/Molecular-Descriptors-for-Predicting-Electronic-Structure/blob/main/neural_network_hyperparameter.ipynb\" target=\"_parent\"><img src=\"https://colab.research.google.com/assets/colab-badge.svg\" alt=\"Open In Colab\"/></a>"
      ]
    },
    {
      "cell_type": "code",
      "execution_count": null,
      "metadata": {
        "id": "zNrxEZIdGc2m"
      },
      "outputs": [],
      "source": [
        "\n",
        "%matplotlib inline\n",
        "\n",
        "import numpy as np\n",
        "import matplotlib.pyplot as plt"
      ]
    },
    {
      "cell_type": "code",
      "execution_count": null,
      "metadata": {
        "colab": {
          "base_uri": "https://localhost:8080/"
        },
        "id": "MfMOzHmuGc2q",
        "outputId": "2f275b1e-eefb-47d0-bbbf-1c68005bac0b"
      },
      "outputs": [
        {
          "output_type": "stream",
          "name": "stdout",
          "text": [
            "Version of numpy: 1.23.5\n"
          ]
        }
      ],
      "source": [
        "\n",
        "print(\"Version of numpy:\", np.__version__)"
      ]
    },
    {
      "cell_type": "code",
      "execution_count": null,
      "metadata": {
        "colab": {
          "base_uri": "https://localhost:8080/"
        },
        "id": "apYRJjjKGc2r",
        "outputId": "8176a50e-3587-4804-f8e4-d78ac48ed30b"
      },
      "outputs": [
        {
          "output_type": "stream",
          "name": "stdout",
          "text": [
            "Version of matplotlib: 3.7.1\n"
          ]
        }
      ],
      "source": [
        "\n",
        "import matplotlib\n",
        "\n",
        "print(\"Version of matplotlib:\", matplotlib.__version__)"
      ]
    },
    {
      "cell_type": "code",
      "execution_count": null,
      "metadata": {
        "id": "_IAxngqbGc2s"
      },
      "outputs": [],
      "source": [
        "\n",
        "np.random.seed(42)"
      ]
    },
    {
      "cell_type": "code",
      "execution_count": null,
      "metadata": {
        "colab": {
          "base_uri": "https://localhost:8080/",
          "height": 262
        },
        "id": "Ky5A_1Q8Gc2s",
        "outputId": "02d845e5-f626-4f20-a0c8-dfffd7522ead"
      },
      "outputs": [
        {
          "output_type": "error",
          "ename": "FileNotFoundError",
          "evalue": "ignored",
          "traceback": [
            "\u001b[0;31m---------------------------------------------------------------------------\u001b[0m",
            "\u001b[0;31mFileNotFoundError\u001b[0m                         Traceback (most recent call last)",
            "\u001b[0;32m<ipython-input-5-c36a5fa4081b>\u001b[0m in \u001b[0;36m<cell line: 8>\u001b[0;34m()\u001b[0m\n\u001b[1;32m      6\u001b[0m \u001b[0;34m\u001b[0m\u001b[0m\n\u001b[1;32m      7\u001b[0m \u001b[0;31m# Get a list of all file names in the folder\u001b[0m\u001b[0;34m\u001b[0m\u001b[0;34m\u001b[0m\u001b[0m\n\u001b[0;32m----> 8\u001b[0;31m \u001b[0mfile_names\u001b[0m \u001b[0;34m=\u001b[0m \u001b[0mos\u001b[0m\u001b[0;34m.\u001b[0m\u001b[0mlistdir\u001b[0m\u001b[0;34m(\u001b[0m\u001b[0mfolder_path\u001b[0m\u001b[0;34m)\u001b[0m\u001b[0;34m\u001b[0m\u001b[0;34m\u001b[0m\u001b[0m\n\u001b[0m\u001b[1;32m      9\u001b[0m \u001b[0;34m\u001b[0m\u001b[0m\n\u001b[1;32m     10\u001b[0m \u001b[0;31m# Initialize an empty list to store DataFrames for each file\u001b[0m\u001b[0;34m\u001b[0m\u001b[0;34m\u001b[0m\u001b[0m\n",
            "\u001b[0;31mFileNotFoundError\u001b[0m: [Errno 2] No such file or directory: 'C:\\\\Users\\\\beyza atasever\\\\Desktop\\\\phys400\\\\QM9 DATABASE\\\\QM9_database\\\\Coulomb_matrix_output'"
          ]
        }
      ],
      "source": [
        "import os\n",
        "import pandas as pd\n",
        "\n",
        "\n",
        "folder_path = r'C:\\Users\\beyza atasever\\Desktop\\phys400\\QM9 DATABASE\\QM9_database\\Coulomb_matrix_output'\n",
        "\n",
        "\n",
        "file_names = os.listdir(folder_path)\n",
        "\n",
        "\n",
        "data_frames = []\n",
        "\n",
        "\n",
        "for file_name in file_names:\n",
        "\n",
        "    file_path = os.path.join(folder_path, file_name)\n",
        "\n",
        "\n",
        "    df = pd.read_csv(file_path, header=None, delimiter='\\t')  # Assuming tab-separated values\n",
        "    data_frames.append(df.T)  # Transpose to have each file as a row\n",
        "\n",
        "\n",
        "all_data = pd.concat(data_frames, ignore_index=True)\n",
        "\n",
        "\n",
        "print(\"Shape of the concatenated DataFrame:\", all_data.shape)\n"
      ]
    },
    {
      "cell_type": "markdown",
      "source": [
        "# New Section"
      ],
      "metadata": {
        "id": "Ng0ffNZjLjwK"
      }
    },
    {
      "cell_type": "code",
      "execution_count": null,
      "metadata": {
        "id": "xe2-lIqjGc2t",
        "outputId": "8e5605d0-51f1-4cec-e860-eb731a538e7a"
      },
      "outputs": [
        {
          "name": "stdout",
          "output_type": "stream",
          "text": [
            "Input in matrix form:\n",
            "          0         1         2          3          4          5      \\\n",
            "0    36.858105  0.500000  0.500000  36.858105  36.858105  36.858105   \n",
            "1     5.494742  0.617847  0.660782  30.023043   5.625362   5.400835   \n",
            "2     5.494749  0.617776  0.660782   2.653484   5.625362   5.400819   \n",
            "3     5.494775  0.617847  0.500000   5.649190   0.500000   5.400835   \n",
            "4     5.494769  0.500000  0.000000  30.023043   0.000000   0.500000   \n",
            "..         ...       ...       ...        ...        ...        ...   \n",
            "836   0.000000  0.000000  0.000000   0.000000   0.000000   0.000000   \n",
            "837   0.000000  0.000000  0.000000   0.000000   0.000000   0.000000   \n",
            "838   0.000000  0.000000  0.000000   0.000000   0.000000   0.000000   \n",
            "839   0.000000  0.000000  0.000000   0.000000   0.000000   0.000000   \n",
            "840   0.000000  0.000000  0.000000   0.000000   0.000000   0.000000   \n",
            "\n",
            "         6          7          8          9      ...      84008      84009  \\\n",
            "0    36.858105  36.858105  36.858105  36.858105  ...  36.858105  36.858105   \n",
            "1    23.535123   5.452852  24.742119  24.709498  ...  23.789647  23.815165   \n",
            "2     5.479684   5.452892  13.551924   5.487886  ...  13.348600  13.432489   \n",
            "3     5.479662   5.487458   5.478135   5.487876  ...  11.165315  11.224157   \n",
            "4     5.479611   3.093813   5.478123   5.487943  ...  10.254468  10.274595   \n",
            "..         ...        ...        ...        ...  ...        ...        ...   \n",
            "836   0.000000   0.000000   0.000000   0.000000  ...   0.000000   0.000000   \n",
            "837   0.000000   0.000000   0.000000   0.000000  ...   0.000000   0.000000   \n",
            "838   0.000000   0.000000   0.000000   0.000000  ...   0.000000   0.000000   \n",
            "839   0.000000   0.000000   0.000000   0.000000  ...   0.000000   0.000000   \n",
            "840   0.000000   0.000000   0.000000   0.000000  ...   0.000000   0.000000   \n",
            "\n",
            "         84010      84011      84012      84013      84014      84015  \\\n",
            "0    36.858105  36.858105  36.858105  36.858105  36.858105  36.858105   \n",
            "1    23.785154  23.803429  23.799826  23.790677  23.806919  23.792850   \n",
            "2    13.614361  13.549961  13.607139  13.605811  13.559677  11.871282   \n",
            "3     9.531949   9.477250   9.465116   9.911731   9.833427   9.864208   \n",
            "4    10.497401  10.394047  10.473281  11.450610  11.365257  11.538664   \n",
            "..         ...        ...        ...        ...        ...        ...   \n",
            "836   0.000000   0.000000   0.000000   0.000000   0.000000   0.000000   \n",
            "837   0.000000   0.000000   0.000000   0.000000   0.000000   0.000000   \n",
            "838   0.000000   0.000000   0.000000   0.000000   0.000000   0.000000   \n",
            "839   0.000000   0.000000   0.000000   0.000000   0.000000   0.000000   \n",
            "840   0.000000   0.000000   0.000000   0.000000   0.000000   0.000000   \n",
            "\n",
            "         84016      84017  \n",
            "0    36.858105  36.858105  \n",
            "1    14.097433  14.190848  \n",
            "2    11.774727  11.824086  \n",
            "3     9.884082   9.888655  \n",
            "4    11.884111  11.883283  \n",
            "..         ...        ...  \n",
            "836   0.000000   0.000000  \n",
            "837   0.000000   0.000000  \n",
            "838   0.000000   0.000000  \n",
            "839   0.000000   0.000000  \n",
            "840   0.000000   0.000000  \n",
            "\n",
            "[841 rows x 84018 columns]\n",
            "\n",
            "Shape of Input Matrix: (841, 84018)\n"
          ]
        }
      ],
      "source": [
        "X = all_data\n",
        "\n",
        "X = X.T\n",
        "print(\"Input in matrix form:\\n\", X)\n",
        "\n",
        "# shape of input matrix\n",
        "print(\"\\nShape of Input Matrix:\", X.shape)"
      ]
    },
    {
      "cell_type": "code",
      "execution_count": null,
      "metadata": {
        "id": "FaEDYqSkGc2u",
        "outputId": "c743e728-6dba-45ba-ebb6-c7b993d8eb57"
      },
      "outputs": [
        {
          "name": "stdout",
          "output_type": "stream",
          "text": [
            "[ 6.469  6.316  6.002 ... 23.972 24.796 23.434]\n",
            "84018\n"
          ]
        }
      ],
      "source": [
        "import os\n",
        "import pandas as pd\n",
        "import re\n",
        "import numpy as np\n",
        "\n",
        "output_file_path = r'C:\\\\Users\\beyza atasever\\Desktop\\\\phys400\\homolumo_values.txt'\n",
        "output_data = []\n",
        "\n",
        "\n",
        "with open(output_file_path, 'r') as file:\n",
        "    # Extract HOMO-LUMO Gap values for the first 84,018 lines\n",
        "    # output_data = [float(re.search(r'HOMO-LUMO Gap: (\\d+\\.\\d+)', line).group(1)) if re.search(r'HOMO-LUMO Gap: (\\d+\\.\\d+)', line) else np.nan for line, _ in zip(file, range(84018))]\n",
        "    for lines in file:\n",
        "        elements = lines.split()\n",
        "        output_data.append(float(elements[4]))\n",
        "# list to a numpy array\n",
        "output_data = np.array(output_data)\n",
        "print(output_data)\n",
        "output_data = output_data[0:84018]\n",
        "print(len(output_data))\n",
        "\n",
        "\n"
      ]
    },
    {
      "cell_type": "code",
      "execution_count": null,
      "metadata": {
        "id": "v-2hx9mnGc2x",
        "outputId": "6f200e59-4034-4012-c2ce-28a8444f48a5"
      },
      "outputs": [
        {
          "name": "stdout",
          "output_type": "stream",
          "text": [
            "[ 6.469  6.316  6.002 ... 23.972 24.796 23.434]\n",
            "84018\n"
          ]
        }
      ],
      "source": [
        "import os\n",
        "import pandas as pd\n",
        "import re\n",
        "import numpy as np\n",
        "\n",
        "\n",
        "output_file_path = r'C:\\\\Users\\beyza atasever\\Desktop\\\\phys400\\homolumo_values.txt'\n",
        "output_data = []\n",
        "\n",
        "\n",
        "with open(output_file_path, 'r') as file:\n",
        "    # Extract HOMO-LUMO Gap values for the first 84,018 lines\n",
        "    # output_data = [float(re.search(r'HOMO-LUMO Gap: (\\d+\\.\\d+)', line).group(1)) if re.search(r'HOMO-LUMO Gap: (\\d+\\.\\d+)', line) else np.nan for line, _ in zip(file, range(84018))]\n",
        "    for lines in file:\n",
        "        elements = lines.split()\n",
        "        output_data.append(float(elements[4]))\n",
        "# Convert the list to a numpy array\n",
        "output_data = np.array(output_data)\n",
        "print(output_data)\n",
        "output_data = output_data[0:84018]\n",
        "print(len(output_data))\n",
        "\n",
        "\n"
      ]
    },
    {
      "cell_type": "code",
      "execution_count": null,
      "metadata": {
        "id": "Jerf2RDIGc2z",
        "outputId": "e15d240e-d45d-43f0-d9bf-946d0793b47c"
      },
      "outputs": [
        {
          "name": "stdout",
          "output_type": "stream",
          "text": [
            "Actual Output:\n",
            " [ 6.469  6.316  6.002 ... 34.631 34.621 34.503]\n",
            "\n",
            "Shape of Output: (84018,)\n",
            "\n",
            "Output in matrix form:\n",
            " [ 6.469  6.316  6.002 ... 34.631 34.621 34.503]\n",
            "\n",
            "Shape of Transposed Output: (84018,)\n"
          ]
        }
      ],
      "source": [
        "# Assuming y is output_data\n",
        "y = output_data\n",
        "\n",
        "# Print actual output\n",
        "# print(\"Actual Output:\\n\", y)\n",
        "\n",
        "# Print shape of output array\n",
        "# print(\"\\nShape of Output:\", y.shape)\n",
        "\n",
        "# Transpose the output data\n",
        "# y = y.T\n",
        "\n",
        "# Print output in matrix form\n",
        "# print(\"\\nOutput in matrix form:\\n\", y)\n",
        "\n",
        "# Print shape of transposed output array\n",
        "# print(\"\\nShape of Transposed Output:\", y.shape)\n"
      ]
    },
    {
      "cell_type": "code",
      "execution_count": null,
      "metadata": {
        "id": "aZqCmiZ8Gc20",
        "outputId": "a646d138-19a0-42ca-8b05-a07f22438796"
      },
      "outputs": [
        {
          "name": "stdout",
          "output_type": "stream",
          "text": [
            "Actual Output:\n",
            " [ 6.469  6.316  6.002 ... 34.631 34.621 34.503]\n",
            "\n",
            "Shape of Output: (84018,)\n",
            "\n",
            "Output in matrix form:\n",
            " [[ 6.469]\n",
            " [ 6.316]\n",
            " [ 6.002]\n",
            " ...\n",
            " [34.631]\n",
            " [34.621]\n",
            " [34.503]]\n",
            "\n",
            "Shape of Reshaped Output: (84018, 1)\n"
          ]
        }
      ],
      "source": [
        "\n",
        "# Assuming y is output_data\n",
        "y = output_data\n",
        "\n",
        "# Print actual output\n",
        "print(\"Actual Output:\\n\", y)\n",
        "\n",
        "# Print shape of output array\n",
        "print(\"\\nShape of Output:\", y.shape)\n",
        "\n",
        "# Reshape the output data to a matrix with a single column\n",
        "y = y.reshape(-1, 1)\n",
        "\n",
        "# Take the transpose of the reshaped matrix\n",
        "y_transposed = y.T\n",
        "\n",
        "# Print output in matrix form\n",
        "print(\"\\nOutput in transposed matrix form:\\n\", y_transposed)\n",
        "\n",
        "# Print shape of transposed output array\n",
        "print(\"\\nShape of Transposed Output:\", y_transposed.shape)\n",
        "\n"
      ]
    },
    {
      "cell_type": "code",
      "execution_count": null,
      "metadata": {
        "id": "K2MS69_PGc20"
      },
      "outputs": [],
      "source": [
        "inputLayer_neurons = X.shape[0]  # number of features in data set\n",
        "hiddenLayer_neurons = 3  # number of hidden layers neurons\n",
        "outputLayer_neurons = 1  # number of neurons at output layer"
      ]
    },
    {
      "cell_type": "code",
      "execution_count": null,
      "metadata": {
        "id": "z3wNaiJ9Gc21"
      },
      "outputs": [],
      "source": [
        "# initializing weight\n",
        "# Shape of weights_input_hidden should number of neurons at input layer * number of neurons at hidden layer\n",
        "weights_input_hidden = np.random.uniform(size=(inputLayer_neurons, hiddenLayer_neurons))\n",
        "\n",
        "# Shape of weights_hidden_output should number of neurons at hidden layer * number of neurons at output layer\n",
        "weights_hidden_output = np.random.uniform(\n",
        "    size=(hiddenLayer_neurons, outputLayer_neurons)\n",
        ")"
      ]
    },
    {
      "cell_type": "code",
      "execution_count": null,
      "metadata": {
        "id": "iVcOFU-NGc21",
        "outputId": "5923bfbf-106a-411a-d340-64407c8b9d91"
      },
      "outputs": [
        {
          "data": {
            "text/plain": [
              "((841, 3), (3, 1))"
            ]
          },
          "execution_count": 12,
          "metadata": {},
          "output_type": "execute_result"
        }
      ],
      "source": [
        "# shape of weight matrix\n",
        "weights_input_hidden.shape, weights_hidden_output.shape# We are using sigmoid as an activation function so defining the sigmoid function here"
      ]
    },
    {
      "cell_type": "code",
      "execution_count": null,
      "metadata": {
        "id": "Il-SpwjuGc22"
      },
      "outputs": [],
      "source": [
        "# We are using sigmoid as an activation function so defining the sigmoid function here\n",
        "\n",
        "# defining the Sigmoid Function\n",
        "def sigmoid(x):\n",
        "    return 1 / (1 + np.exp(-x))"
      ]
    },
    {
      "cell_type": "code",
      "execution_count": null,
      "metadata": {
        "id": "ydlEi-KkGc22"
      },
      "outputs": [],
      "source": [
        "# hidden layer activations\n",
        "\n",
        "hiddenLayer_linearTransform = np.dot(weights_input_hidden.T, X)\n",
        "hiddenLayer_activations = sigmoid(hiddenLayer_linearTransform)"
      ]
    },
    {
      "cell_type": "code",
      "execution_count": null,
      "metadata": {
        "id": "IrwOoRpGGc22"
      },
      "outputs": [],
      "source": [
        "# calculating the output\n",
        "outputLayer_linearTransform = np.dot(weights_hidden_output.T, hiddenLayer_activations)\n",
        "output = sigmoid(outputLayer_linearTransform)"
      ]
    },
    {
      "cell_type": "code",
      "execution_count": null,
      "metadata": {
        "id": "K517mN4yGc23",
        "outputId": "622652e0-250e-4430-9673-bc6abb941f66"
      },
      "outputs": [
        {
          "data": {
            "text/plain": [
              "array([[0.80875065, 0.7860634 , 0.74923201, ..., 0.80875065, 0.80875065,\n",
              "        0.80875065]])"
            ]
          },
          "execution_count": 16,
          "metadata": {},
          "output_type": "execute_result"
        }
      ],
      "source": [
        "# output\n",
        "output"
      ]
    },
    {
      "cell_type": "markdown",
      "metadata": {
        "id": "bLA-B7w_Gc23"
      },
      "source": [
        " The values are within the range of 0 to 1, which is consistent with the sigmoid activation function you applied to the output layer."
      ]
    },
    {
      "cell_type": "code",
      "execution_count": null,
      "metadata": {
        "id": "epCs9jxnGc26",
        "outputId": "75c4892a-b1e2-4de5-edbd-2e8e24d13bd6"
      },
      "outputs": [
        {
          "data": {
            "text/plain": [
              "array([[ 16.01921133,  15.29009937,  13.79578579, ..., 571.97227539,\n",
              "        571.6341029 , 567.65121947]])"
            ]
          },
          "execution_count": 17,
          "metadata": {},
          "output_type": "execute_result"
        }
      ],
      "source": [
        "# calculating error\n",
        "error = np.square(y - output) / 2\n",
        "error"
      ]
    },
    {
      "cell_type": "code",
      "execution_count": null,
      "metadata": {
        "id": "VSvPXxfzGc26",
        "outputId": "1ab4d530-4c5f-4d63-8723-7c789ba8b235"
      },
      "outputs": [
        {
          "name": "stdout",
          "output_type": "stream",
          "text": [
            "Mean Squared Error: 448.40771989585164\n"
          ]
        }
      ],
      "source": [
        "# Calculate mean squared error\n",
        "mean_squared_error = np.mean(error)\n",
        "print(\"Mean Squared Error:\", mean_squared_error)\n"
      ]
    },
    {
      "cell_type": "code",
      "execution_count": null,
      "metadata": {
        "id": "ItdUMP9OGc27"
      },
      "outputs": [],
      "source": [
        "# rate of change of error w.r.t. output\n",
        "error_wrt_output = -(y - output)"
      ]
    },
    {
      "cell_type": "code",
      "execution_count": null,
      "metadata": {
        "id": "3Pn7IraPGc27"
      },
      "outputs": [],
      "source": [
        "# rate of change of output w.r.t. Z2\n",
        "output_wrt_outputLayer_LinearTransform = np.multiply(output, (1 - output))"
      ]
    },
    {
      "cell_type": "code",
      "execution_count": null,
      "metadata": {
        "id": "VNXSEDYFGc27"
      },
      "outputs": [],
      "source": [
        "# rate of change of Z2 w.r.t. weights between hidden and output layer\n",
        "outputLayer_LinearTransform_wrt_weights_hidden_output = hiddenLayer_activations"
      ]
    },
    {
      "cell_type": "code",
      "execution_count": null,
      "metadata": {
        "id": "qEb4s4JrGc28",
        "outputId": "7139ddce-80dd-4f78-f179-a378213d6ec3"
      },
      "outputs": [
        {
          "data": {
            "text/plain": [
              "((1, 84018), (1, 84018), (3, 84018))"
            ]
          },
          "execution_count": 22,
          "metadata": {},
          "output_type": "execute_result"
        }
      ],
      "source": [
        "# checking the shapes of partial derivatives\n",
        "error_wrt_output.shape, output_wrt_outputLayer_LinearTransform.shape, outputLayer_LinearTransform_wrt_weights_hidden_output.shape"
      ]
    },
    {
      "cell_type": "code",
      "execution_count": null,
      "metadata": {
        "id": "-IWpEuhnGc28",
        "outputId": "a84181fb-b77a-4414-9113-837e9d3a09b5"
      },
      "outputs": [
        {
          "data": {
            "text/plain": [
              "(3, 1)"
            ]
          },
          "execution_count": 23,
          "metadata": {},
          "output_type": "execute_result"
        }
      ],
      "source": [
        "# shape of weights of output layer\n",
        "weights_hidden_output.shape"
      ]
    },
    {
      "cell_type": "code",
      "execution_count": null,
      "metadata": {
        "id": "8q5mnVLHGc28"
      },
      "outputs": [],
      "source": [
        "# rate of change of error w.r.t weight between hidden and output layer\n",
        "error_wrt_weights_hidden_output = np.dot(\n",
        "    outputLayer_LinearTransform_wrt_weights_hidden_output,\n",
        "    (error_wrt_output * output_wrt_outputLayer_LinearTransform).T,\n",
        ")"
      ]
    },
    {
      "cell_type": "code",
      "execution_count": null,
      "metadata": {
        "id": "oyjRS8WEGc29",
        "outputId": "9f842efb-1697-4dba-d2e3-e5b0fe239c36"
      },
      "outputs": [
        {
          "data": {
            "text/plain": [
              "(3, 1)"
            ]
          },
          "execution_count": 25,
          "metadata": {},
          "output_type": "execute_result"
        }
      ],
      "source": [
        "error_wrt_weights_hidden_output.shape"
      ]
    },
    {
      "cell_type": "code",
      "execution_count": null,
      "metadata": {
        "id": "PgRfVqEpGc3A"
      },
      "outputs": [],
      "source": [
        "# rate of change of error w.r.t. output\n",
        "error_wrt_output = -(y - output)"
      ]
    },
    {
      "cell_type": "code",
      "execution_count": null,
      "metadata": {
        "id": "dAD60vYMGc3C"
      },
      "outputs": [],
      "source": [
        "# rate of change of output w.r.t. Z2\n",
        "output_wrt_outputLayer_LinearTransform = np.multiply(output, (1 - output))"
      ]
    },
    {
      "cell_type": "code",
      "execution_count": null,
      "metadata": {
        "id": "-A62X6hRGc3C"
      },
      "outputs": [],
      "source": [
        "\n",
        "# rate of change of Z2 w.r.t. hidden layer activations\n",
        "outputLayer_LinearTransform_wrt_hiddenLayer_activations = weights_hidden_output"
      ]
    },
    {
      "cell_type": "code",
      "execution_count": null,
      "metadata": {
        "id": "J0cvdc0sGc3D"
      },
      "outputs": [],
      "source": [
        "# rate of change of hidden layer activations w.r.t. Z1\n",
        "hiddenLayer_activations_wrt_hiddenLayer_linearTransform = np.multiply(\n",
        "    hiddenLayer_activations, (1 - hiddenLayer_activations)\n",
        ")"
      ]
    },
    {
      "cell_type": "code",
      "execution_count": null,
      "metadata": {
        "id": "42pQkuwIGc3D"
      },
      "outputs": [],
      "source": [
        "\n",
        "# rate of change of Z1 w.r.t. weights between input and hidden layer\n",
        "hiddenLayer_linearTransform_wrt_weights_input_hidden = X"
      ]
    },
    {
      "cell_type": "code",
      "execution_count": null,
      "metadata": {
        "id": "b61gET8AGc3E",
        "outputId": "a1760189-bca3-4789-e94c-4bedf2ccb285"
      },
      "outputs": [
        {
          "name": "stdout",
          "output_type": "stream",
          "text": [
            "(1, 84018) (1, 84018) (3, 1) (3, 84018) (841, 84018)\n"
          ]
        }
      ],
      "source": [
        "# checking the shapes of partial derivatives\n",
        "print(\n",
        "    error_wrt_output.shape,\n",
        "    output_wrt_outputLayer_LinearTransform.shape,\n",
        "    outputLayer_LinearTransform_wrt_hiddenLayer_activations.shape,\n",
        "    hiddenLayer_activations_wrt_hiddenLayer_linearTransform.shape,\n",
        "    hiddenLayer_linearTransform_wrt_weights_input_hidden.shape,\n",
        ")"
      ]
    },
    {
      "cell_type": "code",
      "execution_count": null,
      "metadata": {
        "id": "B1uItpIhGc3E",
        "outputId": "38b8a651-d2aa-4ed7-982e-444e70e62dcd"
      },
      "outputs": [
        {
          "data": {
            "text/plain": [
              "(841, 3)"
            ]
          },
          "execution_count": 32,
          "metadata": {},
          "output_type": "execute_result"
        }
      ],
      "source": [
        "\n",
        "# shape of weights of hidden layer\n",
        "weights_input_hidden.shape"
      ]
    },
    {
      "cell_type": "code",
      "execution_count": null,
      "metadata": {
        "id": "-p3u6K4iGc3E"
      },
      "outputs": [],
      "source": [
        "# rate of change of error w.r.t weights between input and hidden layer\n",
        "error_wrt_weights_input_hidden = np.dot(\n",
        "    hiddenLayer_linearTransform_wrt_weights_input_hidden,\n",
        "    (\n",
        "        hiddenLayer_activations_wrt_hiddenLayer_linearTransform\n",
        "        * np.dot(\n",
        "            outputLayer_LinearTransform_wrt_hiddenLayer_activations,\n",
        "            (output_wrt_outputLayer_LinearTransform * error_wrt_output),\n",
        "        )\n",
        "    ).T,\n",
        ")"
      ]
    },
    {
      "cell_type": "code",
      "execution_count": null,
      "metadata": {
        "id": "HTpkOZxmGc3F",
        "outputId": "b2a78c62-bbdf-4604-f484-02ce53f74c8e"
      },
      "outputs": [
        {
          "data": {
            "text/plain": [
              "(841, 3)"
            ]
          },
          "execution_count": 34,
          "metadata": {},
          "output_type": "execute_result"
        }
      ],
      "source": [
        "error_wrt_weights_input_hidden.shape"
      ]
    },
    {
      "cell_type": "markdown",
      "metadata": {
        "id": "euKWpRavGc3F"
      },
      "source": [
        " use vanilla gradient descent update function"
      ]
    },
    {
      "cell_type": "code",
      "execution_count": null,
      "metadata": {
        "id": "63TF3GK9Gc3F"
      },
      "outputs": [],
      "source": [
        "# defining the learning rate\n",
        "lr = 0.01"
      ]
    },
    {
      "cell_type": "code",
      "execution_count": null,
      "metadata": {
        "id": "RUhY2U_cGc3F",
        "outputId": "6ecfca4c-f429-4408-cb34-60a215997dce"
      },
      "outputs": [
        {
          "data": {
            "text/plain": [
              "array([[0.35871553],\n",
              "       [0.80443721],\n",
              "       [0.27875987]])"
            ]
          },
          "execution_count": 36,
          "metadata": {},
          "output_type": "execute_result"
        }
      ],
      "source": [
        "# initial weights_hidden_output\n",
        "weights_hidden_output"
      ]
    },
    {
      "cell_type": "code",
      "execution_count": null,
      "metadata": {
        "id": "8BkIKinaGc3O",
        "outputId": "0a45df9b-9acc-4594-ba64-b746ceab7d30"
      },
      "outputs": [
        {
          "data": {
            "text/plain": [
              "array([[0.37454012, 0.95071431, 0.73199394],\n",
              "       [0.59865848, 0.15601864, 0.15599452],\n",
              "       [0.05808361, 0.86617615, 0.60111501],\n",
              "       ...,\n",
              "       [0.62659251, 0.92638261, 0.01911609],\n",
              "       [0.47684347, 0.68772204, 0.72270696],\n",
              "       [0.69253243, 0.13443513, 0.29939559]])"
            ]
          },
          "execution_count": 37,
          "metadata": {},
          "output_type": "execute_result"
        }
      ],
      "source": [
        "\n",
        "# initial weights_input_hidden\n",
        "weights_input_hidden"
      ]
    },
    {
      "cell_type": "code",
      "execution_count": null,
      "metadata": {
        "id": "LGRQVfiCGc3O"
      },
      "outputs": [],
      "source": [
        "\n",
        "# updating the weights of output layer\n",
        "weights_hidden_output = weights_hidden_output - lr * error_wrt_weights_hidden_output"
      ]
    },
    {
      "cell_type": "code",
      "execution_count": null,
      "metadata": {
        "id": "SEeDIYe1Gc3P"
      },
      "outputs": [],
      "source": [
        "# updating the weights of hidden layer\n",
        "weights_input_hidden = weights_input_hidden - lr * error_wrt_weights_input_hidden"
      ]
    },
    {
      "cell_type": "code",
      "execution_count": null,
      "metadata": {
        "id": "b4YFk8j6Gc3P",
        "outputId": "1c66c1ee-7d82-43bf-abb6-c8b67aa9d4a6"
      },
      "outputs": [
        {
          "data": {
            "text/plain": [
              "array([[3859.83271723],\n",
              "       [3860.27881022],\n",
              "       [3859.75374029]])"
            ]
          },
          "execution_count": 40,
          "metadata": {},
          "output_type": "execute_result"
        }
      ],
      "source": [
        "\n",
        "# updated weights_hidden_output\n",
        "weights_hidden_output"
      ]
    },
    {
      "cell_type": "code",
      "execution_count": null,
      "metadata": {
        "id": "yX9jyt4pGc3P",
        "outputId": "1b2dedf4-f8df-4f57-b7a5-f40fb2f56d30"
      },
      "outputs": [
        {
          "data": {
            "text/plain": [
              "array([[0.37505095, 0.95178012, 0.73230558],\n",
              "       [0.59931762, 0.15739756, 0.1563989 ],\n",
              "       [0.05874273, 0.86755501, 0.60151938],\n",
              "       ...,\n",
              "       [0.62659251, 0.92638261, 0.01911609],\n",
              "       [0.47684347, 0.68772204, 0.72270696],\n",
              "       [0.69253243, 0.13443513, 0.29939559]])"
            ]
          },
          "execution_count": 41,
          "metadata": {},
          "output_type": "execute_result"
        }
      ],
      "source": [
        "# updated weights_input_hidden\n",
        "weights_input_hidden"
      ]
    },
    {
      "cell_type": "markdown",
      "metadata": {
        "id": "qNeEFbLFGc3P"
      },
      "source": [
        "do it multiple times to make our model perform better"
      ]
    },
    {
      "cell_type": "code",
      "execution_count": null,
      "metadata": {
        "id": "Dfa4EjyfGc3R"
      },
      "outputs": [],
      "source": [
        "# defining the model architecture\n",
        "inputLayer_neurons = X.shape[0]  # number of features in data set\n",
        "hiddenLayer_neurons = 3  # number of hidden layers neurons\n",
        "outputLayer_neurons = 1  # number of neurons at output layer\n",
        "\n",
        "# initializing weight\n",
        "weights_input_hidden = np.random.uniform(size=(inputLayer_neurons, hiddenLayer_neurons))\n",
        "weights_hidden_output = np.random.uniform(\n",
        "    size=(hiddenLayer_neurons, outputLayer_neurons)\n",
        ")\n",
        "\n",
        "# defining the parameters\n",
        "lr = 0.1\n",
        "epochs = 1000"
      ]
    },
    {
      "cell_type": "code",
      "execution_count": null,
      "metadata": {
        "id": "gR6zQktrGc3S",
        "outputId": "917c8bd0-3ca1-4025-a3d4-90be4abdcb57"
      },
      "outputs": [
        {
          "name": "stdout",
          "output_type": "stream",
          "text": [
            "Error at epoch 0 is 448.04883\n",
            "Error at epoch 100 is 442.74610\n",
            "Error at epoch 200 is 442.74610\n",
            "Error at epoch 300 is 442.74610\n",
            "Error at epoch 400 is 442.74610\n",
            "Error at epoch 500 is 442.74610\n",
            "Error at epoch 600 is 442.74610\n",
            "Error at epoch 700 is 442.74610\n",
            "Error at epoch 800 is 442.74610\n",
            "Error at epoch 900 is 442.74610\n"
          ]
        }
      ],
      "source": [
        "losses = []\n",
        "for epoch in range(epochs):\n",
        "    ## Forward Propogation\n",
        "\n",
        "    # calculating hidden layer activations\n",
        "    hiddenLayer_linearTransform = np.dot(weights_input_hidden.T, X)\n",
        "    hiddenLayer_activations = sigmoid(hiddenLayer_linearTransform)\n",
        "\n",
        "    # calculating the output\n",
        "    outputLayer_linearTransform = np.dot(\n",
        "        weights_hidden_output.T, hiddenLayer_activations\n",
        "    )\n",
        "    output = sigmoid(outputLayer_linearTransform)\n",
        "\n",
        "    ## Backward Propagation\n",
        "\n",
        "    # calculating error\n",
        "    error = np.square(y - output) / 2\n",
        "\n",
        "    # calculating rate of change of error w.r.t weight between hidden and output layer\n",
        "    error_wrt_output = -(y - output)\n",
        "    output_wrt_outputLayer_LinearTransform = np.multiply(output, (1 - output))\n",
        "    outputLayer_LinearTransform_wrt_weights_hidden_output = hiddenLayer_activations\n",
        "\n",
        "    error_wrt_weights_hidden_output = np.dot(\n",
        "        outputLayer_LinearTransform_wrt_weights_hidden_output,\n",
        "        (error_wrt_output * output_wrt_outputLayer_LinearTransform).T,\n",
        "    )\n",
        "\n",
        "    # calculating rate of change of error w.r.t weights between input and hidden layer\n",
        "    outputLayer_LinearTransform_wrt_hiddenLayer_activations = weights_hidden_output\n",
        "    hiddenLayer_activations_wrt_hiddenLayer_linearTransform = np.multiply(\n",
        "        hiddenLayer_activations, (1 - hiddenLayer_activations)\n",
        "    )\n",
        "    hiddenLayer_linearTransform_wrt_weights_input_hidden = X\n",
        "    error_wrt_weights_input_hidden = np.dot(\n",
        "        hiddenLayer_linearTransform_wrt_weights_input_hidden,\n",
        "        (\n",
        "            hiddenLayer_activations_wrt_hiddenLayer_linearTransform\n",
        "            * np.dot(\n",
        "                outputLayer_LinearTransform_wrt_hiddenLayer_activations,\n",
        "                (output_wrt_outputLayer_LinearTransform * error_wrt_output),\n",
        "            )\n",
        "        ).T,\n",
        "    )\n",
        "\n",
        "    # updating the weights\n",
        "    weights_hidden_output = weights_hidden_output - lr * error_wrt_weights_hidden_output\n",
        "    weights_input_hidden = weights_input_hidden - lr * error_wrt_weights_input_hidden\n",
        "\n",
        "    # print error at every 100th epoch\n",
        "    epoch_loss = np.average(error)\n",
        "    if epoch % 100 == 0:\n",
        "        print(f\"Error at epoch {epoch} is {epoch_loss:.5f}\")\n",
        "\n",
        "    # appending the error of each epoch\n",
        "    losses.append(epoch_loss)"
      ]
    },
    {
      "cell_type": "code",
      "execution_count": null,
      "metadata": {
        "id": "7mzeQlglGc3S",
        "outputId": "524ed23d-90d5-4b2c-9da1-6ffe5ecb0e88"
      },
      "outputs": [
        {
          "data": {
            "text/plain": [
              "array([[ 0.22839031,  0.95944638, 11.25716019],\n",
              "       [ 1.00462286,  0.67942496,  0.85969505],\n",
              "       [ 0.30142113,  0.01691888,  0.76750434],\n",
              "       ...,\n",
              "       [ 0.76221206,  0.59171697,  0.19202337],\n",
              "       [ 0.66668565,  0.62337957,  0.60246917],\n",
              "       [ 0.48978587,  0.5286566 ,  0.33444253]])"
            ]
          },
          "execution_count": 44,
          "metadata": {},
          "output_type": "execute_result"
        }
      ],
      "source": [
        "# updated w_ih\n",
        "weights_input_hidden"
      ]
    },
    {
      "cell_type": "code",
      "execution_count": null,
      "metadata": {
        "id": "QmZShHXqGc3T",
        "outputId": "57a807e8-ac3b-4c5d-a9fe-dcda822bdb69"
      },
      "outputs": [
        {
          "data": {
            "text/plain": [
              "array([[36681.53867198],\n",
              "       [36681.21706627],\n",
              "       [36681.17125087]])"
            ]
          },
          "execution_count": 45,
          "metadata": {},
          "output_type": "execute_result"
        }
      ],
      "source": [
        "\n",
        "# updated w_ho\n",
        "weights_hidden_output"
      ]
    },
    {
      "cell_type": "code",
      "execution_count": null,
      "metadata": {
        "id": "ev4elN5DGc3T",
        "outputId": "b9a7b368-f7c2-417c-b80e-8769a4113eef"
      },
      "outputs": [
        {
          "data": {
            "text/plain": [
              "[<matplotlib.lines.Line2D at 0x1e95ff83a10>]"
            ]
          },
          "execution_count": 46,
          "metadata": {},
          "output_type": "execute_result"
        },
        {
          "data": {
            "image/png": "[encoded data removed]",
            "text/plain": [
              "<Figure size 640x480 with 1 Axes>"
            ]
          },
          "metadata": {},
          "output_type": "display_data"
        }
      ],
      "source": [
        "# visualizing the error after each epoch\n",
        "plt.plot(np.arange(1, epochs + 1), np.array(losses))"
      ]
    },
    {
      "cell_type": "code",
      "execution_count": null,
      "metadata": {
        "id": "yVYzm4Y1Gc3U",
        "outputId": "af107e70-ee40-462d-e829-2eff75d3ae36"
      },
      "outputs": [
        {
          "data": {
            "text/plain": [
              "array([[1., 1., 1., ..., 1., 1., 1.]])"
            ]
          },
          "execution_count": 47,
          "metadata": {},
          "output_type": "execute_result"
        }
      ],
      "source": [
        "# final output from the model\n",
        "output"
      ]
    },
    {
      "cell_type": "code",
      "execution_count": null,
      "metadata": {
        "id": "8GKI6FsdGc3U",
        "outputId": "653c02c1-5fa8-49ac-9405-0b5a56182b67"
      },
      "outputs": [
        {
          "data": {
            "text/plain": [
              "array([ 6.469,  6.316,  6.002, ..., 34.631, 34.621, 34.503])"
            ]
          },
          "execution_count": 48,
          "metadata": {},
          "output_type": "execute_result"
        }
      ],
      "source": [
        "# actual target\n",
        "y"
      ]
    },
    {
      "cell_type": "code",
      "execution_count": null,
      "metadata": {
        "id": "XifcC1jyGc3U"
      },
      "outputs": [],
      "source": [
        "from sklearn.datasets import make_moons\n",
        "\n",
        "X, y = make_moons(n_samples=1000, random_state=42, noise=0.1)"
      ]
    },
    {
      "cell_type": "code",
      "execution_count": null,
      "metadata": {
        "id": "4KNGbIgVGc3V",
        "outputId": "13f2851a-281d-4c03-9742-427ebd8c1bbf"
      },
      "outputs": [
        {
          "data": {
            "text/plain": [
              "<matplotlib.collections.PathCollection at 0x1e960069810>"
            ]
          },
          "execution_count": 50,
          "metadata": {},
          "output_type": "execute_result"
        },
        {
          "data": {
            "image/png": "[encoded data removed]",
            "text/plain": [
              "<Figure size 640x480 with 1 Axes>"
            ]
          },
          "metadata": {},
          "output_type": "display_data"
        }
      ],
      "source": [
        "plt.scatter(X[:, 0], X[:, 1], s=10, c=y)"
      ]
    },
    {
      "cell_type": "code",
      "execution_count": null,
      "metadata": {
        "id": "5eSNd29cGc3V"
      },
      "outputs": [],
      "source": [
        "\n",
        "X -= X.min()\n",
        "X /= X.max()"
      ]
    },
    {
      "cell_type": "code",
      "execution_count": null,
      "metadata": {
        "id": "2y5EYSfKGc3W",
        "outputId": "6bf25a00-d034-4000-91b6-f3f108b6116c"
      },
      "outputs": [
        {
          "data": {
            "text/plain": [
              "(0.0, 1.0)"
            ]
          },
          "execution_count": 52,
          "metadata": {},
          "output_type": "execute_result"
        }
      ],
      "source": [
        "X.min(), X.max()"
      ]
    },
    {
      "cell_type": "code",
      "execution_count": null,
      "metadata": {
        "id": "w0hgXMonGc3X",
        "outputId": "054e6543-5116-4658-dcdf-abc111f4b753"
      },
      "outputs": [
        {
          "data": {
            "text/plain": [
              "array([0, 1], dtype=int64)"
            ]
          },
          "execution_count": 53,
          "metadata": {},
          "output_type": "execute_result"
        }
      ],
      "source": [
        "np.unique(y)"
      ]
    },
    {
      "cell_type": "code",
      "execution_count": null,
      "metadata": {
        "id": "rPJS1bhFGc3Z",
        "outputId": "1c06d2da-f347-4e8b-c7d6-b506b439815c"
      },
      "outputs": [
        {
          "data": {
            "text/plain": [
              "((1000, 2), (1000,))"
            ]
          },
          "execution_count": 54,
          "metadata": {},
          "output_type": "execute_result"
        }
      ],
      "source": [
        "X.shape, y.shape"
      ]
    },
    {
      "cell_type": "code",
      "execution_count": null,
      "metadata": {
        "id": "LjnHlhz1Gc3a"
      },
      "outputs": [],
      "source": [
        "\n",
        "X = X.T\n",
        "\n",
        "y = y.reshape(1, -1)"
      ]
    },
    {
      "cell_type": "code",
      "execution_count": null,
      "metadata": {
        "id": "6ZmYZp0GGc3a",
        "outputId": "bce1fd9c-d002-4c38-b894-6386ccdf0249"
      },
      "outputs": [
        {
          "data": {
            "text/plain": [
              "((2, 1000), (1, 1000))"
            ]
          },
          "execution_count": 56,
          "metadata": {},
          "output_type": "execute_result"
        }
      ],
      "source": [
        "X.shape, y.shape"
      ]
    },
    {
      "cell_type": "code",
      "execution_count": null,
      "metadata": {
        "id": "0yJRuJ4nGc3a",
        "outputId": "8cadd896-9f70-4003-f889-f01ec96436b0"
      },
      "outputs": [
        {
          "name": "stdout",
          "output_type": "stream",
          "text": [
            "Error at epoch 0 is 0.21192\n",
            "Error at epoch 1000 is 0.01941\n",
            "Error at epoch 2000 is 0.00894\n",
            "Error at epoch 3000 is 0.04356\n",
            "Error at epoch 4000 is 0.00728\n",
            "Error at epoch 5000 is 0.00708\n",
            "Error at epoch 6000 is 0.00693\n",
            "Error at epoch 7000 is 0.00676\n",
            "Error at epoch 8000 is 0.00634\n",
            "Error at epoch 9000 is 0.00636\n"
          ]
        }
      ],
      "source": [
        "# defining the model architecture\n",
        "inputLayer_neurons = X.shape[0]  # number of features in data set\n",
        "hiddenLayer_neurons = 10  # number of hidden layers neurons\n",
        "outputLayer_neurons = 1  # number of neurons at output layer\n",
        "\n",
        "# initializing weight\n",
        "weights_input_hidden = np.random.uniform(size=(inputLayer_neurons, hiddenLayer_neurons))\n",
        "weights_hidden_output = np.random.uniform(\n",
        "    size=(hiddenLayer_neurons, outputLayer_neurons)\n",
        ")\n",
        "\n",
        "# defining the parameters\n",
        "lr = 0.1\n",
        "epochs = 10000\n",
        "\n",
        "losses = []\n",
        "for epoch in range(epochs):\n",
        "    ## Forward Propogation\n",
        "\n",
        "    # calculating hidden layer activations\n",
        "    hiddenLayer_linearTransform = np.dot(weights_input_hidden.T, X)\n",
        "    hiddenLayer_activations = sigmoid(hiddenLayer_linearTransform)\n",
        "\n",
        "    # calculating the output\n",
        "    outputLayer_linearTransform = np.dot(\n",
        "        weights_hidden_output.T, hiddenLayer_activations\n",
        "    )\n",
        "    output = sigmoid(outputLayer_linearTransform)\n",
        "\n",
        "    ## Backward Propagation\n",
        "\n",
        "    # calculating error\n",
        "    error = np.square(y - output) / 2\n",
        "\n",
        "    # calculating rate of change of error w.r.t weight between hidden and output layer\n",
        "    error_wrt_output = -(y - output)\n",
        "    output_wrt_outputLayer_LinearTransform = np.multiply(output, (1 - output))\n",
        "    outputLayer_LinearTransform_wrt_weights_hidden_output = hiddenLayer_activations\n",
        "\n",
        "    error_wrt_weights_hidden_output = np.dot(\n",
        "        outputLayer_LinearTransform_wrt_weights_hidden_output,\n",
        "        (error_wrt_output * output_wrt_outputLayer_LinearTransform).T,\n",
        "    )\n",
        "\n",
        "    # calculating rate of change of error w.r.t weights between input and hidden layer\n",
        "    outputLayer_LinearTransform_wrt_hiddenLayer_activations = weights_hidden_output\n",
        "    hiddenLayer_activations_wrt_hiddenLayer_linearTransform = np.multiply(\n",
        "        hiddenLayer_activations, (1 - hiddenLayer_activations)\n",
        "    )\n",
        "    hiddenLayer_linearTransform_wrt_weights_input_hidden = X\n",
        "    error_wrt_weights_input_hidden = np.dot(\n",
        "        hiddenLayer_linearTransform_wrt_weights_input_hidden,\n",
        "        (\n",
        "            hiddenLayer_activations_wrt_hiddenLayer_linearTransform\n",
        "            * np.dot(\n",
        "                outputLayer_LinearTransform_wrt_hiddenLayer_activations,\n",
        "                (output_wrt_outputLayer_LinearTransform * error_wrt_output),\n",
        "            )\n",
        "        ).T,\n",
        "    )\n",
        "\n",
        "    # updating the weights\n",
        "    weights_hidden_output = weights_hidden_output - lr * error_wrt_weights_hidden_output\n",
        "    weights_input_hidden = weights_input_hidden - lr * error_wrt_weights_input_hidden\n",
        "\n",
        "    # print error at every 100th epoch\n",
        "    epoch_loss = np.average(error)\n",
        "    if epoch % 1000 == 0:\n",
        "        print(f\"Error at epoch {epoch} is {epoch_loss:.5f}\")\n",
        "\n",
        "    # appending the error of each epoch\n",
        "    losses.append(epoch_loss)"
      ]
    },
    {
      "cell_type": "code",
      "execution_count": null,
      "metadata": {
        "id": "vBWPFVxOGc3b",
        "outputId": "9f13b885-97aa-4023-eb1e-a036bcf32ca2"
      },
      "outputs": [
        {
          "data": {
            "text/plain": [
              "[<matplotlib.lines.Line2D at 0x1e95ee94c50>]"
            ]
          },
          "execution_count": 58,
          "metadata": {},
          "output_type": "execute_result"
        },
        {
          "data": {
            "image/png": "[encoded data removed]",
            "text/plain": [
              "<Figure size 640x480 with 1 Axes>"
            ]
          },
          "metadata": {},
          "output_type": "display_data"
        }
      ],
      "source": [
        "# visualizing the error after each epoch\n",
        "plt.plot(np.arange(1, epochs + 1), np.array(losses))"
      ]
    },
    {
      "cell_type": "code",
      "execution_count": null,
      "metadata": {
        "id": "Fv13mjV6Gc3b",
        "outputId": "e6f32524-cffc-475a-ccb3-97771dc1d2a7"
      },
      "outputs": [
        {
          "data": {
            "text/plain": [
              "array([[9.67371249e-01, 9.99849411e-01, 9.99426536e-01, 9.99879859e-01,\n",
              "        6.48051910e-11]])"
            ]
          },
          "execution_count": 59,
          "metadata": {},
          "output_type": "execute_result"
        }
      ],
      "source": [
        "\n",
        "# final output from the model\n",
        "output[:, :5]"
      ]
    },
    {
      "cell_type": "code",
      "execution_count": null,
      "metadata": {
        "id": "tVG-0yPsGc3c",
        "outputId": "e750ace3-93a6-4130-e12f-024a351f7eb0"
      },
      "outputs": [
        {
          "data": {
            "text/plain": [
              "array([[1, 1, 1, 1, 0]], dtype=int64)"
            ]
          },
          "execution_count": 60,
          "metadata": {},
          "output_type": "execute_result"
        }
      ],
      "source": [
        "y[:, :5]"
      ]
    },
    {
      "cell_type": "code",
      "execution_count": null,
      "metadata": {
        "id": "prcTUl6WGc3c",
        "outputId": "3bcbac96-eec0-4251-d5df-bff4254730cb"
      },
      "outputs": [
        {
          "data": {
            "text/plain": [
              "<matplotlib.collections.PathCollection at 0x1e9609b4510>"
            ]
          },
          "execution_count": 63,
          "metadata": {},
          "output_type": "execute_result"
        },
        {
          "data": {
            "image/png": "[encoded data removed]",
            "text/plain": [
              "<Figure size 640x480 with 1 Axes>"
            ]
          },
          "metadata": {},
          "output_type": "display_data"
        }
      ],
      "source": [
        "# Define region of interest by data limits\n",
        "steps = 1000\n",
        "x_span = np.linspace(X[0, :].min(), X[0, :].max(), steps)\n",
        "y_span = np.linspace(X[1, :].min(), X[1, :].max(), steps)\n",
        "xx, yy = np.meshgrid(x_span, y_span)\n",
        "\n",
        "# forward pass for region of interest\n",
        "hiddenLayer_linearTransform = np.dot(\n",
        "    weights_input_hidden.T, np.c_[xx.ravel(), yy.ravel()].T\n",
        ")\n",
        "hiddenLayer_activations = sigmoid(hiddenLayer_linearTransform)\n",
        "outputLayer_linearTransform = np.dot(weights_hidden_output.T, hiddenLayer_activations)\n",
        "output_span = sigmoid(outputLayer_linearTransform)\n",
        "\n",
        "# Make predictions across region of interest\n",
        "labels = (output_span > 0.5).astype(int)\n",
        "\n",
        "# Plot decision boundary in region of interest\n",
        "z = labels.reshape(xx.shape)\n",
        "fig, ax = plt.subplots()\n",
        "ax.contourf(xx, yy, z, alpha=0.2)\n",
        "\n",
        "# Get predicted labels on training data and plot\n",
        "train_labels = (output > 0.5).astype(int)\n",
        "\n",
        "# create scatter plot\n",
        "ax.scatter(X[0, :], X[1, :], s=10, c=y.squeeze())"
      ]
    }
  ],
  "metadata": {
    "kernelspec": {
      "display_name": "Python 3",
      "language": "python",
      "name": "python3"
    },
    "language_info": {
      "codemirror_mode": {
        "name": "ipython",
        "version": 3
      },
      "file_extension": ".py",
      "mimetype": "text/x-python",
      "name": "python",
      "nbconvert_exporter": "python",
      "pygments_lexer": "ipython3",
      "version": "3.11.4"
    },
    "colab": {
      "provenance": [],
      "include_colab_link": true
    }
  },
  "nbformat": 4,
  "nbformat_minor": 0
}