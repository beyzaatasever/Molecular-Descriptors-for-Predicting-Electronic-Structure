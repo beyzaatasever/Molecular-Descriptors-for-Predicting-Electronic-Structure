{
  "nbformat": 4,
  "nbformat_minor": 0,
  "metadata": {
    "colab": {
      "provenance": [],
      "mount_file_id": "1OKcnv5j0o5ftidsT0eZEtj1HjCe_DfLC",
      "authorship_tag": "ABX9TyM4g/GXQRKf6H/1uAS5RFmg",
      "include_colab_link": true
    },
    "kernelspec": {
      "name": "python3",
      "display_name": "Python 3"
    },
    "language_info": {
      "name": "python"
    }
  },
  "cells": [
    {
      "cell_type": "markdown",
      "metadata": {
        "id": "view-in-github",
        "colab_type": "text"
      },
      "source": [
        "<a href=\"https://colab.research.google.com/github/beyzaatasever/Molecular-Descriptors-for-Predicting-Electronic-Structure/blob/main/Hidden_Layers_400.ipynb\" target=\"_parent\"><img src=\"https://colab.research.google.com/assets/colab-badge.svg\" alt=\"Open In Colab\"/></a>"
      ]
    },
    {
      "cell_type": "code",
      "execution_count": null,
      "metadata": {
        "id": "tmtiRi31e6kf"
      },
      "outputs": [],
      "source": [
        "import numpy as np\n",
        "import tensorflow as tf\n",
        "from tensorflow.keras import layers, models\n",
        "from sklearn.model_selection import train_test_split"
      ]
    },
    {
      "cell_type": "code",
      "source": [
        "from google.colab import drive\n",
        "drive.mount('/content/gdrive')"
      ],
      "metadata": {
        "id": "nwNv2v0tyvzj",
        "colab": {
          "base_uri": "https://localhost:8080/"
        },
        "outputId": "19d969d9-d3bc-46f1-b0d6-632cd835fa38"
      },
      "execution_count": null,
      "outputs": [
        {
          "output_type": "stream",
          "name": "stdout",
          "text": [
            "Mounted at /content/gdrive\n"
          ]
        }
      ]
    },
    {
      "cell_type": "code",
      "source": [
        "import os\n",
        "import pandas as pd\n",
        "import re\n",
        "\n",
        "# Specify the folder path\n",
        "folder_path = \"/content/gdrive/MyDrive/coulomb_matrix_only_2000_data\"\n",
        "\n",
        "# Get a list of all file names in the folder\n",
        "file_names = os.listdir(folder_path)\n",
        "\n",
        "# Filter only the .txt files\n",
        "txt_files = [file for file in file_names if file.endswith(\".txt\")]\n",
        "\n",
        "# Sort the .txt files based on the numerical order in the second position\n",
        "sorted_txt_files = sorted(txt_files, key=lambda x: int(re.search(r'(\\d+)', x.split('_')[1]).group()))\n",
        "\n",
        "# Initialize an empty list to store DataFrames for each file\n",
        "data_frames = []\n",
        "\n",
        "# Loop through each file in the sorted list\n",
        "for file_name in sorted_txt_files:\n",
        "    # Construct the full path to the file\n",
        "    file_path = os.path.join(folder_path, file_name)\n",
        "\n",
        "    # Load each file into a DataFrame\n",
        "    df = pd.read_csv(file_path, header=None, delimiter='\\t')  # Assuming tab-separated values\n",
        "    data_frames.append(df.T)  # Transpose to have each file as a row\n",
        "\n",
        "# Concatenate all DataFrames into a single DataFrame\n",
        "all_data = pd.concat(data_frames, ignore_index=True)\n",
        "\n",
        "# Display the shape of the resulting DataFrame\n",
        "print(\"Shape of the concatenated DataFrame:\", all_data.shape)\n"
      ],
      "metadata": {
        "colab": {
          "base_uri": "https://localhost:8080/"
        },
        "id": "KqeADAIEb870",
        "outputId": "950b88a5-da8d-4505-8d1f-1710152e8f8a"
      },
      "execution_count": null,
      "outputs": [
        {
          "output_type": "stream",
          "name": "stdout",
          "text": [
            "Shape of the concatenated DataFrame: (1999, 841)\n"
          ]
        }
      ]
    },
    {
      "cell_type": "code",
      "source": [
        "X = all_data\n",
        "print(\"Input in matrix form:\\n\", X)\n",
        "\n",
        "# shape of input matrix\n",
        "print(\"\\nShape of Input Matrix:\", X.shape)"
      ],
      "metadata": {
        "id": "nYki7OBAcLJq",
        "colab": {
          "base_uri": "https://localhost:8080/"
        },
        "outputId": "72510214-2d20-4cc0-e8d2-6eaab8793a72"
      },
      "execution_count": null,
      "outputs": [
        {
          "output_type": "stream",
          "name": "stdout",
          "text": [
            "Input in matrix form:\n",
            "             0          1          2          3          4          5    \\\n",
            "0     36.858105   5.494742   5.494749   5.494775   5.494769   5.494742   \n",
            "1      0.500000   0.617847   0.617776   0.617847   0.500000   0.617778   \n",
            "2      0.500000   0.660782   0.660782   0.500000   0.000000   0.000000   \n",
            "3     36.858105  30.023043   2.653484   5.649190  30.023043  36.858105   \n",
            "4     36.858105   5.625362   5.625362   0.500000   0.000000   0.000000   \n",
            "...         ...        ...        ...        ...        ...        ...   \n",
            "1994  36.858105  23.449081  14.234582  14.100864  11.528495   8.482216   \n",
            "1995  36.858105  23.474786  14.202714  14.194764   8.858923   8.107101   \n",
            "1996  36.858105  23.517980  14.189944  11.783203   8.365461  10.512860   \n",
            "1997  36.858105  23.534737  14.175832   9.224745   7.467330   6.996466   \n",
            "1998  36.858105  23.558946  14.160865   9.267578   7.105905   5.479289   \n",
            "\n",
            "           6         7         8         9    ...  831  832  833  834  835  \\\n",
            "0     0.500000  0.560815  0.560806  0.560803  ...  0.0  0.0  0.0  0.0  0.0   \n",
            "1     0.617776  0.617778  0.500000  0.000000  ...  0.0  0.0  0.0  0.0  0.0   \n",
            "2     0.000000  0.000000  0.000000  0.000000  ...  0.0  0.0  0.0  0.0  0.0   \n",
            "3     5.649190  2.653484  2.653484  5.649190  ...  0.0  0.0  0.0  0.0  0.0   \n",
            "4     0.000000  0.000000  0.000000  0.000000  ...  0.0  0.0  0.0  0.0  0.0   \n",
            "...        ...       ...       ...       ...  ...  ...  ...  ...  ...  ...   \n",
            "1994  5.471607  5.478529  5.492743  2.794357  ...  0.0  0.0  0.0  0.0  0.0   \n",
            "1995  5.468810  5.479320  5.492725  2.794135  ...  0.0  0.0  0.0  0.0  0.0   \n",
            "1996  5.478998  5.479868  5.491676  2.785379  ...  0.0  0.0  0.0  0.0  0.0   \n",
            "1997  5.480112  5.472464  5.479287  2.785195  ...  0.0  0.0  0.0  0.0  0.0   \n",
            "1998  5.480384  5.474481  2.780615  2.280993  ...  0.0  0.0  0.0  0.0  0.0   \n",
            "\n",
            "      836  837  838  839  840  \n",
            "0     0.0  0.0  0.0  0.0  0.0  \n",
            "1     0.0  0.0  0.0  0.0  0.0  \n",
            "2     0.0  0.0  0.0  0.0  0.0  \n",
            "3     0.0  0.0  0.0  0.0  0.0  \n",
            "4     0.0  0.0  0.0  0.0  0.0  \n",
            "...   ...  ...  ...  ...  ...  \n",
            "1994  0.0  0.0  0.0  0.0  0.0  \n",
            "1995  0.0  0.0  0.0  0.0  0.0  \n",
            "1996  0.0  0.0  0.0  0.0  0.0  \n",
            "1997  0.0  0.0  0.0  0.0  0.0  \n",
            "1998  0.0  0.0  0.0  0.0  0.0  \n",
            "\n",
            "[1999 rows x 841 columns]\n",
            "\n",
            "Shape of Input Matrix: (1999, 841)\n"
          ]
        }
      ]
    },
    {
      "cell_type": "code",
      "source": [
        "# Print the name of the first file in the sorted list\n",
        "if sorted_txt_files:\n",
        "    first_file_name = sorted_txt_files[0]\n",
        "    print(\"Name of the first file:\", first_file_name)\n",
        "else:\n",
        "    print(\"No .txt files found.\")\n"
      ],
      "metadata": {
        "id": "-zKQRQRpewVg",
        "colab": {
          "base_uri": "https://localhost:8080/"
        },
        "outputId": "f23d25e1-9f76-4c69-9b33-ad5ef9a6f821"
      },
      "execution_count": null,
      "outputs": [
        {
          "output_type": "stream",
          "name": "stdout",
          "text": [
            "Name of the first file: dsgdb9nsd_000001_coordinates_coulomb_matrix.txt\n"
          ]
        }
      ]
    },
    {
      "cell_type": "code",
      "source": [
        "import os\n",
        "import pandas as pd\n",
        "import re\n",
        "import numpy as np\n",
        "# Specify the path to your output data file\n",
        "output_file_path = '/content/homolumo_values.txt'\n",
        "\n",
        "# Read the output file line by line and extract the eV numbers\n",
        "output_data = []\n",
        "\n",
        "with open(output_file_path, 'r') as file:\n",
        "    for lines in file:\n",
        "        elements = lines.split()\n",
        "        output_data.append(float(elements[4]))\n",
        "\n",
        "# Convert the list to a numpy array\n",
        "output_data = np.array(output_data)\n",
        "output_data = output_data[:1999]  # Use the first 1999 data points\n"
      ],
      "metadata": {
        "id": "ir9IVedXRV6I"
      },
      "execution_count": null,
      "outputs": []
    },
    {
      "cell_type": "code",
      "source": [
        "# Print the first 10 values of output_data\n",
        "print(output_data[:10])\n",
        "\n",
        "# Alternatively, print the last 10 values\n",
        "print(output_data[-10:])\n"
      ],
      "metadata": {
        "id": "rWuXaS1KS9Qv",
        "colab": {
          "base_uri": "https://localhost:8080/"
        },
        "outputId": "f71cda18-5dbb-4643-eeff-9b9a6387d5fd"
      },
      "execution_count": null,
      "outputs": [
        {
          "output_type": "stream",
          "name": "stdout",
          "text": [
            "[ 6.469  6.316  6.002  8.574  6.278  6.413 10.098  8.751 12.482 10.287]\n",
            "[26.374 27.301 25.817 23.818 31.65  29.939 30.6   30.379 30.518 28.804]\n"
          ]
        }
      ]
    },
    {
      "cell_type": "code",
      "source": [
        "# Print the shape of the output_data\n",
        "print(\"Shape of output_data:\", output_data.shape)\n"
      ],
      "metadata": {
        "id": "kWk23x6xUVlE",
        "colab": {
          "base_uri": "https://localhost:8080/"
        },
        "outputId": "ae0a7ebf-7fd8-4eab-f450-06a7b67483f1"
      },
      "execution_count": null,
      "outputs": [
        {
          "output_type": "stream",
          "name": "stdout",
          "text": [
            "Shape of output_data: (1999,)\n"
          ]
        }
      ]
    },
    {
      "cell_type": "code",
      "source": [
        "pip install numpy scikit-learn keras\n"
      ],
      "metadata": {
        "id": "V8lCrZVehD14",
        "colab": {
          "base_uri": "https://localhost:8080/"
        },
        "outputId": "8b03985e-3a39-4ac5-abbb-c62aedc4bee6"
      },
      "execution_count": null,
      "outputs": [
        {
          "output_type": "stream",
          "name": "stdout",
          "text": [
            "Requirement already satisfied: numpy in /usr/local/lib/python3.10/dist-packages (1.23.5)\n",
            "Requirement already satisfied: scikit-learn in /usr/local/lib/python3.10/dist-packages (1.2.2)\n",
            "Requirement already satisfied: keras in /usr/local/lib/python3.10/dist-packages (2.15.0)\n",
            "Requirement already satisfied: scipy>=1.3.2 in /usr/local/lib/python3.10/dist-packages (from scikit-learn) (1.11.4)\n",
            "Requirement already satisfied: joblib>=1.1.1 in /usr/local/lib/python3.10/dist-packages (from scikit-learn) (1.3.2)\n",
            "Requirement already satisfied: threadpoolctl>=2.0.0 in /usr/local/lib/python3.10/dist-packages (from scikit-learn) (3.2.0)\n"
          ]
        }
      ]
    },
    {
      "cell_type": "code",
      "source": [
        "import numpy as np\n",
        "from sklearn.model_selection import train_test_split\n",
        "from sklearn.preprocessing import StandardScaler\n",
        "from keras.models import Sequential\n",
        "from keras.layers import Dense"
      ],
      "metadata": {
        "id": "rrdI9ufpiuDu"
      },
      "execution_count": null,
      "outputs": []
    },
    {
      "cell_type": "code",
      "source": [
        "# Split the data into training and testing sets\n",
        "X_train, X_test, y_train, y_test = train_test_split(X, output_data, test_size=0.8, random_state=42)"
      ],
      "metadata": {
        "id": "tgohE1wmi1Qv"
      },
      "execution_count": null,
      "outputs": []
    },
    {
      "cell_type": "code",
      "source": [
        "# Standardize the input data\n",
        "# scaler = StandardScaler()\n",
        "# X_train = scaler.fit_transform(X_train)\n",
        "# X_test = scaler.transform(X_test)\n",
        "# Print sizes for checking\n",
        "print(\"Size of X_train:\", X_train.shape)\n",
        "print(\"Size of X_test:\", X_test.shape)\n",
        "print(\"Size of y_train:\", y_train.shape)\n",
        "print(\"Size of y_test:\", y_test.shape)"
      ],
      "metadata": {
        "id": "ZWRZqVoxjA6w",
        "colab": {
          "base_uri": "https://localhost:8080/"
        },
        "outputId": "1b8a9db2-488c-494f-d41b-47024f512aec"
      },
      "execution_count": null,
      "outputs": [
        {
          "output_type": "stream",
          "name": "stdout",
          "text": [
            "Size of X_train: (399, 841)\n",
            "Size of X_test: (1600, 841)\n",
            "Size of y_train: (399,)\n",
            "Size of y_test: (1600,)\n"
          ]
        }
      ]
    },
    {
      "cell_type": "code",
      "source": [
        "# Create a Sequential model\n",
        "model = Sequential()\n",
        "# Add input layer\n",
        "model.add(Dense(units=64, activation='relu', input_dim=841))  # Assuming 841 features in your Coulomb matrix"
      ],
      "metadata": {
        "id": "IJBXzBtcjmWP"
      },
      "execution_count": null,
      "outputs": []
    },
    {
      "cell_type": "code",
      "source": [
        "# Add hidden layers\n",
        "model.add(Dense(units=32, activation='relu'))\n",
        "model.add(Dense(units=16, activation='relu'))"
      ],
      "metadata": {
        "id": "fewinpYfj0rD"
      },
      "execution_count": null,
      "outputs": []
    },
    {
      "cell_type": "code",
      "source": [
        "# Add output layer\n",
        "model.add(Dense(units=1, activation='linear'))  # Output layer for regression\n"
      ],
      "metadata": {
        "id": "gTM0oy5tj2PU"
      },
      "execution_count": null,
      "outputs": []
    },
    {
      "cell_type": "code",
      "source": [
        "# Compile the model\n",
        "model.compile(optimizer='adam', loss='mean_squared_error')  # Use appropriate optimizer and loss function"
      ],
      "metadata": {
        "id": "gCO05nbbj6zr"
      },
      "execution_count": null,
      "outputs": []
    },
    {
      "cell_type": "code",
      "source": [
        "# Train the model\n",
        "model.fit(X, output_data, epochs=50, batch_size=32, validation_split=0.2)  # Adjust parameters as needed"
      ],
      "metadata": {
        "id": "lCuv1o-ij9my",
        "colab": {
          "base_uri": "https://localhost:8080/"
        },
        "outputId": "513e9146-ff76-4552-8110-e8fc9f458429"
      },
      "execution_count": null,
      "outputs": [
        {
          "output_type": "stream",
          "name": "stdout",
          "text": [
            "Epoch 1/50\n",
            "50/50 [==============================] - 4s 28ms/step - loss: 106.3636 - val_loss: 19.4001\n",
            "Epoch 2/50\n",
            "50/50 [==============================] - 1s 12ms/step - loss: 21.8471 - val_loss: 15.5913\n",
            "Epoch 3/50\n",
            "50/50 [==============================] - 0s 10ms/step - loss: 17.0017 - val_loss: 13.6966\n",
            "Epoch 4/50\n",
            "50/50 [==============================] - 0s 9ms/step - loss: 14.1730 - val_loss: 10.9957\n",
            "Epoch 5/50\n",
            "50/50 [==============================] - 1s 10ms/step - loss: 11.9147 - val_loss: 10.3973\n",
            "Epoch 6/50\n",
            "50/50 [==============================] - 1s 12ms/step - loss: 10.7018 - val_loss: 11.3058\n",
            "Epoch 7/50\n",
            "50/50 [==============================] - 1s 10ms/step - loss: 10.3841 - val_loss: 8.5464\n",
            "Epoch 8/50\n",
            "50/50 [==============================] - 1s 11ms/step - loss: 9.1480 - val_loss: 9.1593\n",
            "Epoch 9/50\n",
            "50/50 [==============================] - 1s 10ms/step - loss: 9.3321 - val_loss: 7.2082\n",
            "Epoch 10/50\n",
            "50/50 [==============================] - 0s 5ms/step - loss: 9.0057 - val_loss: 6.3804\n",
            "Epoch 11/50\n",
            "50/50 [==============================] - 0s 5ms/step - loss: 8.7552 - val_loss: 9.5313\n",
            "Epoch 12/50\n",
            "50/50 [==============================] - 0s 5ms/step - loss: 8.2399 - val_loss: 8.5654\n",
            "Epoch 13/50\n",
            "50/50 [==============================] - 0s 5ms/step - loss: 7.8991 - val_loss: 9.1336\n",
            "Epoch 14/50\n",
            "50/50 [==============================] - 0s 5ms/step - loss: 7.9580 - val_loss: 7.2152\n",
            "Epoch 15/50\n",
            "50/50 [==============================] - 0s 4ms/step - loss: 7.6986 - val_loss: 10.1265\n",
            "Epoch 16/50\n",
            "50/50 [==============================] - 0s 5ms/step - loss: 7.3846 - val_loss: 8.7121\n",
            "Epoch 17/50\n",
            "50/50 [==============================] - 0s 5ms/step - loss: 7.2614 - val_loss: 6.8562\n",
            "Epoch 18/50\n",
            "50/50 [==============================] - 0s 4ms/step - loss: 6.8920 - val_loss: 8.6724\n",
            "Epoch 19/50\n",
            "50/50 [==============================] - 0s 5ms/step - loss: 6.8424 - val_loss: 8.7386\n",
            "Epoch 20/50\n",
            "50/50 [==============================] - 0s 5ms/step - loss: 6.7436 - val_loss: 10.1005\n",
            "Epoch 21/50\n",
            "50/50 [==============================] - 0s 7ms/step - loss: 6.7814 - val_loss: 10.7214\n",
            "Epoch 22/50\n",
            "50/50 [==============================] - 0s 7ms/step - loss: 6.5562 - val_loss: 8.7713\n",
            "Epoch 23/50\n",
            "50/50 [==============================] - 0s 7ms/step - loss: 6.2716 - val_loss: 12.3287\n",
            "Epoch 24/50\n",
            "50/50 [==============================] - 0s 6ms/step - loss: 6.2145 - val_loss: 8.3931\n",
            "Epoch 25/50\n",
            "50/50 [==============================] - 0s 7ms/step - loss: 6.5337 - val_loss: 6.9871\n",
            "Epoch 26/50\n",
            "50/50 [==============================] - 0s 6ms/step - loss: 6.0834 - val_loss: 8.7942\n",
            "Epoch 27/50\n",
            "50/50 [==============================] - 0s 7ms/step - loss: 5.9155 - val_loss: 8.9482\n",
            "Epoch 28/50\n",
            "50/50 [==============================] - 0s 7ms/step - loss: 6.0202 - val_loss: 7.8276\n",
            "Epoch 29/50\n",
            "50/50 [==============================] - 0s 7ms/step - loss: 5.4410 - val_loss: 6.0879\n",
            "Epoch 30/50\n",
            "50/50 [==============================] - 0s 7ms/step - loss: 5.7526 - val_loss: 6.7478\n",
            "Epoch 31/50\n",
            "50/50 [==============================] - 0s 7ms/step - loss: 5.9551 - val_loss: 8.2702\n",
            "Epoch 32/50\n",
            "50/50 [==============================] - 0s 7ms/step - loss: 5.5661 - val_loss: 7.8891\n",
            "Epoch 33/50\n",
            "50/50 [==============================] - 0s 6ms/step - loss: 5.4558 - val_loss: 8.4903\n",
            "Epoch 34/50\n",
            "50/50 [==============================] - 0s 6ms/step - loss: 5.5712 - val_loss: 7.2985\n",
            "Epoch 35/50\n",
            "50/50 [==============================] - 0s 7ms/step - loss: 5.2984 - val_loss: 12.2317\n",
            "Epoch 36/50\n",
            "50/50 [==============================] - 0s 7ms/step - loss: 5.1848 - val_loss: 8.9557\n",
            "Epoch 37/50\n",
            "50/50 [==============================] - 0s 7ms/step - loss: 5.2935 - val_loss: 6.5438\n",
            "Epoch 38/50\n",
            "50/50 [==============================] - 0s 4ms/step - loss: 5.2365 - val_loss: 9.2661\n",
            "Epoch 39/50\n",
            "50/50 [==============================] - 0s 5ms/step - loss: 4.9205 - val_loss: 7.1781\n",
            "Epoch 40/50\n",
            "50/50 [==============================] - 0s 4ms/step - loss: 4.7206 - val_loss: 7.6657\n",
            "Epoch 41/50\n",
            "50/50 [==============================] - 0s 5ms/step - loss: 4.7680 - val_loss: 18.1591\n",
            "Epoch 42/50\n",
            "50/50 [==============================] - 0s 5ms/step - loss: 4.6334 - val_loss: 9.5607\n",
            "Epoch 43/50\n",
            "50/50 [==============================] - 0s 5ms/step - loss: 4.5162 - val_loss: 10.2753\n",
            "Epoch 44/50\n",
            "50/50 [==============================] - 0s 4ms/step - loss: 4.7188 - val_loss: 11.2317\n",
            "Epoch 45/50\n",
            "50/50 [==============================] - 0s 4ms/step - loss: 4.6980 - val_loss: 8.1614\n",
            "Epoch 46/50\n",
            "50/50 [==============================] - 0s 4ms/step - loss: 4.7426 - val_loss: 13.9483\n",
            "Epoch 47/50\n",
            "50/50 [==============================] - 0s 5ms/step - loss: 4.6697 - val_loss: 7.7328\n",
            "Epoch 48/50\n",
            "50/50 [==============================] - 0s 4ms/step - loss: 4.5139 - val_loss: 7.2186\n",
            "Epoch 49/50\n",
            "50/50 [==============================] - 0s 4ms/step - loss: 4.7522 - val_loss: 9.0826\n",
            "Epoch 50/50\n",
            "50/50 [==============================] - 0s 4ms/step - loss: 4.5259 - val_loss: 8.6576\n"
          ]
        },
        {
          "output_type": "execute_result",
          "data": {
            "text/plain": [
              "<keras.src.callbacks.History at 0x7caf2c5f48e0>"
            ]
          },
          "metadata": {},
          "execution_count": 19
        }
      ]
    },
    {
      "cell_type": "code",
      "source": [
        "# Evaluate the model on the test set\n",
        "loss = model.evaluate(X_test, y_test)\n",
        "print(f'Test Loss: {loss}')"
      ],
      "metadata": {
        "id": "voFmOc_SkLDs",
        "colab": {
          "base_uri": "https://localhost:8080/"
        },
        "outputId": "cf8d8b3b-acff-4e2a-9f60-4c4288555224"
      },
      "execution_count": null,
      "outputs": [
        {
          "output_type": "stream",
          "name": "stdout",
          "text": [
            "50/50 [==============================] - 0s 2ms/step - loss: 4.9658\n",
            "Test Loss: 4.965785503387451\n"
          ]
        }
      ]
    },
    {
      "cell_type": "code",
      "source": [
        "# Make predictions\n",
        "predictions = model.predict(X_test)\n",
        "# You can use predictions for further analysis or comparison"
      ],
      "metadata": {
        "id": "9-2zS37vkRGb",
        "colab": {
          "base_uri": "https://localhost:8080/"
        },
        "outputId": "3f5200b3-82c2-4354-d421-5dc8bd298369"
      },
      "execution_count": null,
      "outputs": [
        {
          "output_type": "stream",
          "name": "stdout",
          "text": [
            "50/50 [==============================] - 1s 7ms/step\n"
          ]
        }
      ]
    },
    {
      "cell_type": "code",
      "source": [
        "from sklearn.metrics import mean_squared_error, r2_score\n",
        "# Calculate additional evaluation metrics\n",
        "mse = mean_squared_error(y_test, predictions)\n",
        "r2 = r2_score(y_test, predictions)\n",
        "\n",
        "print(f'Mean Squared Error: {mse}')\n",
        "print(f'R-squared: {r2}')"
      ],
      "metadata": {
        "id": "JDZQhd_hmGM6",
        "colab": {
          "base_uri": "https://localhost:8080/"
        },
        "outputId": "70024cb7-38b9-4d1f-91d8-94d237796e2c"
      },
      "execution_count": null,
      "outputs": [
        {
          "output_type": "stream",
          "name": "stdout",
          "text": [
            "Mean Squared Error: 4.96578499899272\n",
            "R-squared: 0.791516027687041\n"
          ]
        }
      ]
    },
    {
      "cell_type": "markdown",
      "source": [
        "hyperparameter demo\n",
        "\n"
      ],
      "metadata": {
        "id": "mn6SVeFOpCRe"
      }
    },
    {
      "cell_type": "code",
      "source": [
        "from tensorflow.keras.models import Sequential\n",
        "from tensorflow.keras.layers import Dense\n",
        "from sklearn.model_selection import train_test_split\n",
        "import numpy as np\n",
        "\n",
        "# Assuming X is your input (Coulomb matrix) and output_data is your output (HOMO-LUMO gaps)\n",
        "X = all_data  # Replace this with your Coulomb matrix data\n",
        "output_data = output_data  # Replace this with your HOMO-LUMO gaps data\n",
        "\n",
        "# Split the data into training and testing sets\n",
        "X_train, X_test, y_train, y_test = train_test_split(X, output_data, test_size=0.2, random_state=42)\n",
        "\n",
        "def create_model(optimizer='adam', activation='relu', units=16, num_layers=3, nodes_per_layer=[64, 32, 16]):\n",
        "    model = Sequential()\n",
        "    model.add(Dense(units=nodes_per_layer[0], activation=activation, input_dim=841))\n",
        "\n",
        "    # Repeat elements in nodes_per_layer to match num_layers\n",
        "    repeated_nodes = nodes_per_layer * (num_layers // len(nodes_per_layer)) + nodes_per_layer[:num_layers % len(nodes_per_layer)]\n",
        "\n",
        "    for nodes in repeated_nodes[1:]:\n",
        "        model.add(Dense(units=nodes, activation=activation))\n",
        "\n",
        "    model.add(Dense(units=1, activation='linear'))\n",
        "    model.compile(optimizer=optimizer, loss='mean_squared_error')\n",
        "    return model\n",
        "\n",
        "\n",
        "# Specify the hyperparameters you want to tune\n",
        "optimizers = ['adam']\n",
        "activations = ['relu', 'tanh']\n",
        "units_values = [16, 32, 64]\n",
        "num_layers_values = [2, 3, 4]\n",
        "nodes_per_layer_values = [[64, 32], [32, 16], [64, 32, 16]]\n",
        "\n",
        "best_model = None\n",
        "best_loss = float('inf')\n",
        "\n",
        "# Loop through hyperparameter combinations\n",
        "for optimizer in optimizers:\n",
        "    for activation in activations:\n",
        "        for units in units_values:\n",
        "            for num_layers in num_layers_values:\n",
        "                for nodes_per_layer in nodes_per_layer_values:\n",
        "                    # Create a model with current hyperparameters\n",
        "                    model = create_model(optimizer=optimizer, activation=activation, units=units, num_layers=num_layers, nodes_per_layer=nodes_per_layer)\n",
        "\n",
        "                    # Train the model\n",
        "                    model.fit(X_train, y_train, epochs=50, batch_size=32, validation_data=(X_test, y_test), verbose=0)\n",
        "\n",
        "                    # Evaluate the model\n",
        "                    loss = model.evaluate(X_test, y_test)\n",
        "                    print(f'Hyperparameters: optimizer={optimizer}, activation={activation}, units={units}, num_layers={num_layers}, nodes_per_layer={nodes_per_layer}, Test Loss: {loss}')\n",
        "\n",
        "                    # Update best model if current model has lower loss\n",
        "                    if loss < best_loss:\n",
        "                        best_loss = loss\n",
        "                        best_model = model\n",
        "\n",
        "# Print information about the best model\n",
        "print(f'Best Test Loss: {best_loss}')\n"
      ],
      "metadata": {
        "id": "NPeI8lz4pG1o",
        "colab": {
          "base_uri": "https://localhost:8080/"
        },
        "outputId": "4bd15736-7b49-46b4-8ff6-5830a96fa599"
      },
      "execution_count": null,
      "outputs": [
        {
          "output_type": "stream",
          "name": "stdout",
          "text": [
            "13/13 [==============================] - 0s 3ms/step - loss: 6.4244\n",
            "Hyperparameters: optimizer=adam, activation=relu, units=16, num_layers=2, nodes_per_layer=[64, 32], Test Loss: 6.424386024475098\n",
            "13/13 [==============================] - 1s 75ms/step - loss: 7.4439\n",
            "Hyperparameters: optimizer=adam, activation=relu, units=16, num_layers=2, nodes_per_layer=[32, 16], Test Loss: 7.443921089172363\n",
            "13/13 [==============================] - 1s 78ms/step - loss: 6.6704\n",
            "Hyperparameters: optimizer=adam, activation=relu, units=16, num_layers=2, nodes_per_layer=[64, 32, 16], Test Loss: 6.670433521270752\n",
            "13/13 [==============================] - 0s 16ms/step - loss: 7.1442\n",
            "Hyperparameters: optimizer=adam, activation=relu, units=16, num_layers=3, nodes_per_layer=[64, 32], Test Loss: 7.144184112548828\n",
            "13/13 [==============================] - 1s 75ms/step - loss: 7.3503\n",
            "Hyperparameters: optimizer=adam, activation=relu, units=16, num_layers=3, nodes_per_layer=[32, 16], Test Loss: 7.350301742553711\n",
            "13/13 [==============================] - 1s 74ms/step - loss: 6.2284\n",
            "Hyperparameters: optimizer=adam, activation=relu, units=16, num_layers=3, nodes_per_layer=[64, 32, 16], Test Loss: 6.2284040451049805\n",
            "13/13 [==============================] - 0s 2ms/step - loss: 6.1649\n",
            "Hyperparameters: optimizer=adam, activation=relu, units=16, num_layers=4, nodes_per_layer=[64, 32], Test Loss: 6.164871692657471\n",
            "13/13 [==============================] - 0s 32ms/step - loss: 6.9205\n",
            "Hyperparameters: optimizer=adam, activation=relu, units=16, num_layers=4, nodes_per_layer=[32, 16], Test Loss: 6.920458793640137\n",
            "13/13 [==============================] - 0s 3ms/step - loss: 6.8302\n",
            "Hyperparameters: optimizer=adam, activation=relu, units=16, num_layers=4, nodes_per_layer=[64, 32, 16], Test Loss: 6.830157279968262\n",
            "13/13 [==============================] - 0s 37ms/step - loss: 7.6200\n",
            "Hyperparameters: optimizer=adam, activation=relu, units=32, num_layers=2, nodes_per_layer=[64, 32], Test Loss: 7.620046615600586\n",
            "13/13 [==============================] - 0s 18ms/step - loss: 7.6006\n",
            "Hyperparameters: optimizer=adam, activation=relu, units=32, num_layers=2, nodes_per_layer=[32, 16], Test Loss: 7.600559234619141\n",
            "13/13 [==============================] - 0s 3ms/step - loss: 6.8642\n",
            "Hyperparameters: optimizer=adam, activation=relu, units=32, num_layers=2, nodes_per_layer=[64, 32, 16], Test Loss: 6.86418342590332\n",
            "13/13 [==============================] - 9s 780ms/step - loss: 7.1318\n",
            "Hyperparameters: optimizer=adam, activation=relu, units=32, num_layers=3, nodes_per_layer=[64, 32], Test Loss: 7.131755828857422\n",
            "13/13 [==============================] - 0s 3ms/step - loss: 8.0530\n",
            "Hyperparameters: optimizer=adam, activation=relu, units=32, num_layers=3, nodes_per_layer=[32, 16], Test Loss: 8.052971839904785\n",
            "13/13 [==============================] - 1s 62ms/step - loss: 6.5405\n",
            "Hyperparameters: optimizer=adam, activation=relu, units=32, num_layers=3, nodes_per_layer=[64, 32, 16], Test Loss: 6.540461540222168\n",
            "13/13 [==============================] - 0s 3ms/step - loss: 5.4737\n",
            "Hyperparameters: optimizer=adam, activation=relu, units=32, num_layers=4, nodes_per_layer=[64, 32], Test Loss: 5.473691463470459\n",
            "13/13 [==============================] - 0s 29ms/step - loss: 7.1013\n",
            "Hyperparameters: optimizer=adam, activation=relu, units=32, num_layers=4, nodes_per_layer=[32, 16], Test Loss: 7.10134220123291\n",
            "13/13 [==============================] - 1s 68ms/step - loss: 6.1110\n",
            "Hyperparameters: optimizer=adam, activation=relu, units=32, num_layers=4, nodes_per_layer=[64, 32, 16], Test Loss: 6.1110100746154785\n",
            "13/13 [==============================] - 0s 2ms/step - loss: 6.6107\n",
            "Hyperparameters: optimizer=adam, activation=relu, units=64, num_layers=2, nodes_per_layer=[64, 32], Test Loss: 6.6107401847839355\n",
            "13/13 [==============================] - 0s 4ms/step - loss: 7.5535\n",
            "Hyperparameters: optimizer=adam, activation=relu, units=64, num_layers=2, nodes_per_layer=[32, 16], Test Loss: 7.553525924682617\n",
            "13/13 [==============================] - 1s 93ms/step - loss: 6.2263\n",
            "Hyperparameters: optimizer=adam, activation=relu, units=64, num_layers=2, nodes_per_layer=[64, 32, 16], Test Loss: 6.2263288497924805\n",
            "13/13 [==============================] - 1s 56ms/step - loss: 6.0506\n",
            "Hyperparameters: optimizer=adam, activation=relu, units=64, num_layers=3, nodes_per_layer=[64, 32], Test Loss: 6.0506181716918945\n",
            "13/13 [==============================] - 1s 40ms/step - loss: 7.6453\n",
            "Hyperparameters: optimizer=adam, activation=relu, units=64, num_layers=3, nodes_per_layer=[32, 16], Test Loss: 7.645289897918701\n",
            "13/13 [==============================] - 0s 34ms/step - loss: 6.0449\n",
            "Hyperparameters: optimizer=adam, activation=relu, units=64, num_layers=3, nodes_per_layer=[64, 32, 16], Test Loss: 6.044896125793457\n",
            "13/13 [==============================] - 1s 46ms/step - loss: 5.9709\n",
            "Hyperparameters: optimizer=adam, activation=relu, units=64, num_layers=4, nodes_per_layer=[64, 32], Test Loss: 5.970940113067627\n",
            "13/13 [==============================] - 0s 3ms/step - loss: 6.9515\n",
            "Hyperparameters: optimizer=adam, activation=relu, units=64, num_layers=4, nodes_per_layer=[32, 16], Test Loss: 6.951539516448975\n",
            "13/13 [==============================] - 0s 3ms/step - loss: 5.8641\n",
            "Hyperparameters: optimizer=adam, activation=relu, units=64, num_layers=4, nodes_per_layer=[64, 32, 16], Test Loss: 5.864144802093506\n",
            "13/13 [==============================] - 0s 35ms/step - loss: 7.3008\n",
            "Hyperparameters: optimizer=adam, activation=tanh, units=16, num_layers=2, nodes_per_layer=[64, 32], Test Loss: 7.300783157348633\n",
            "13/13 [==============================] - 1s 43ms/step - loss: 11.5125\n",
            "Hyperparameters: optimizer=adam, activation=tanh, units=16, num_layers=2, nodes_per_layer=[32, 16], Test Loss: 11.512520790100098\n",
            "13/13 [==============================] - 1s 49ms/step - loss: 7.2727\n",
            "Hyperparameters: optimizer=adam, activation=tanh, units=16, num_layers=2, nodes_per_layer=[64, 32, 16], Test Loss: 7.272688388824463\n",
            "13/13 [==============================] - 1s 41ms/step - loss: 7.0032\n",
            "Hyperparameters: optimizer=adam, activation=tanh, units=16, num_layers=3, nodes_per_layer=[64, 32], Test Loss: 7.003199577331543\n",
            "13/13 [==============================] - 0s 29ms/step - loss: 7.0246\n",
            "Hyperparameters: optimizer=adam, activation=tanh, units=16, num_layers=3, nodes_per_layer=[32, 16], Test Loss: 7.024639129638672\n",
            "13/13 [==============================] - 1s 77ms/step - loss: 10.7055\n",
            "Hyperparameters: optimizer=adam, activation=tanh, units=16, num_layers=3, nodes_per_layer=[64, 32, 16], Test Loss: 10.705493927001953\n",
            "13/13 [==============================] - 1s 75ms/step - loss: 7.2299\n",
            "Hyperparameters: optimizer=adam, activation=tanh, units=16, num_layers=4, nodes_per_layer=[64, 32], Test Loss: 7.229942798614502\n",
            "13/13 [==============================] - 1s 57ms/step - loss: 9.9466\n",
            "Hyperparameters: optimizer=adam, activation=tanh, units=16, num_layers=4, nodes_per_layer=[32, 16], Test Loss: 9.946606636047363\n",
            "13/13 [==============================] - 1s 87ms/step - loss: 6.3534\n",
            "Hyperparameters: optimizer=adam, activation=tanh, units=16, num_layers=4, nodes_per_layer=[64, 32, 16], Test Loss: 6.353419303894043\n",
            "13/13 [==============================] - 0s 5ms/step - loss: 7.1149\n",
            "Hyperparameters: optimizer=adam, activation=tanh, units=32, num_layers=2, nodes_per_layer=[64, 32], Test Loss: 7.114898204803467\n",
            "13/13 [==============================] - 0s 36ms/step - loss: 10.8995\n",
            "Hyperparameters: optimizer=adam, activation=tanh, units=32, num_layers=2, nodes_per_layer=[32, 16], Test Loss: 10.899489402770996\n",
            "13/13 [==============================] - 1s 56ms/step - loss: 7.1677\n",
            "Hyperparameters: optimizer=adam, activation=tanh, units=32, num_layers=2, nodes_per_layer=[64, 32, 16], Test Loss: 7.167724609375\n",
            "13/13 [==============================] - 0s 15ms/step - loss: 6.5329\n",
            "Hyperparameters: optimizer=adam, activation=tanh, units=32, num_layers=3, nodes_per_layer=[64, 32], Test Loss: 6.532907485961914\n",
            "13/13 [==============================] - 0s 34ms/step - loss: 6.6537\n",
            "Hyperparameters: optimizer=adam, activation=tanh, units=32, num_layers=3, nodes_per_layer=[32, 16], Test Loss: 6.6536545753479\n",
            "13/13 [==============================] - 0s 3ms/step - loss: 10.9481\n",
            "Hyperparameters: optimizer=adam, activation=tanh, units=32, num_layers=3, nodes_per_layer=[64, 32, 16], Test Loss: 10.948055267333984\n",
            "13/13 [==============================] - 1s 80ms/step - loss: 6.7107\n",
            "Hyperparameters: optimizer=adam, activation=tanh, units=32, num_layers=4, nodes_per_layer=[64, 32], Test Loss: 6.710663318634033\n",
            "13/13 [==============================] - 0s 2ms/step - loss: 11.3199\n",
            "Hyperparameters: optimizer=adam, activation=tanh, units=32, num_layers=4, nodes_per_layer=[32, 16], Test Loss: 11.319854736328125\n",
            "13/13 [==============================] - 0s 3ms/step - loss: 6.4826\n",
            "Hyperparameters: optimizer=adam, activation=tanh, units=32, num_layers=4, nodes_per_layer=[64, 32, 16], Test Loss: 6.482613563537598\n",
            "13/13 [==============================] - 0s 3ms/step - loss: 7.5948\n",
            "Hyperparameters: optimizer=adam, activation=tanh, units=64, num_layers=2, nodes_per_layer=[64, 32], Test Loss: 7.594831466674805\n",
            "13/13 [==============================] - 0s 11ms/step - loss: 11.4622\n",
            "Hyperparameters: optimizer=adam, activation=tanh, units=64, num_layers=2, nodes_per_layer=[32, 16], Test Loss: 11.462207794189453\n",
            "13/13 [==============================] - 1s 76ms/step - loss: 7.3576\n",
            "Hyperparameters: optimizer=adam, activation=tanh, units=64, num_layers=2, nodes_per_layer=[64, 32, 16], Test Loss: 7.357603549957275\n",
            "13/13 [==============================] - 1s 83ms/step - loss: 6.3522\n",
            "Hyperparameters: optimizer=adam, activation=tanh, units=64, num_layers=3, nodes_per_layer=[64, 32], Test Loss: 6.352183818817139\n",
            "13/13 [==============================] - 0s 38ms/step - loss: 7.7470\n",
            "Hyperparameters: optimizer=adam, activation=tanh, units=64, num_layers=3, nodes_per_layer=[32, 16], Test Loss: 7.746951103210449\n",
            "13/13 [==============================] - 0s 5ms/step - loss: 11.0289\n",
            "Hyperparameters: optimizer=adam, activation=tanh, units=64, num_layers=3, nodes_per_layer=[64, 32, 16], Test Loss: 11.028924942016602\n",
            "13/13 [==============================] - 0s 3ms/step - loss: 7.2817\n",
            "Hyperparameters: optimizer=adam, activation=tanh, units=64, num_layers=4, nodes_per_layer=[64, 32], Test Loss: 7.281677722930908\n",
            "13/13 [==============================] - 0s 18ms/step - loss: 10.8465\n",
            "Hyperparameters: optimizer=adam, activation=tanh, units=64, num_layers=4, nodes_per_layer=[32, 16], Test Loss: 10.84653091430664\n",
            "13/13 [==============================] - 1s 58ms/step - loss: 6.1812\n",
            "Hyperparameters: optimizer=adam, activation=tanh, units=64, num_layers=4, nodes_per_layer=[64, 32, 16], Test Loss: 6.1811933517456055\n",
            "Best Test Loss: 5.473691463470459\n"
          ]
        }
      ]
    },
    {
      "cell_type": "code",
      "source": [
        "import matplotlib.pyplot as plt\n",
        "import seaborn as sns\n",
        "\n",
        "# ... (previous code remains unchanged)\n",
        "\n",
        "# Make predictions on the test set\n",
        "predictions = model.predict(X_test)\n",
        "\n",
        "# Scatter plot of actual vs. predicted values\n",
        "plt.figure(figsize=(10, 6))\n",
        "sns.scatterplot(x=y_test, y=predictions.flatten(), alpha=0.5)\n",
        "plt.title('Actual vs. Predicted HOMO-LUMO Gaps')\n",
        "plt.xlabel('Actual HOMO-LUMO Gaps (eV)')\n",
        "plt.ylabel('Predicted HOMO-LUMO Gaps (eV)')\n",
        "plt.grid(True)\n",
        "plt.show()\n"
      ],
      "metadata": {
        "id": "8otHP7KcvJdr",
        "colab": {
          "base_uri": "https://localhost:8080/",
          "height": 581
        },
        "outputId": "6a7c96e7-be8f-41d8-bfe9-f9dcb4e32e38"
      },
      "execution_count": null,
      "outputs": [
        {
          "output_type": "stream",
          "name": "stdout",
          "text": [
            "13/13 [==============================] - 0s 2ms/step\n"
          ]
        },
        {
          "output_type": "display_data",
          "data": {
            "text/plain": [
              "<Figure size 1000x600 with 1 Axes>"
            ],
            "image/png": "[encoded data removed]"
          },
          "metadata": {}
        }
      ]
    }
  ]
}